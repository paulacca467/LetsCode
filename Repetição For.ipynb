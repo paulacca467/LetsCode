{
 "cells": [
  {
   "cell_type": "code",
   "execution_count": 3,
   "id": "878fac50",
   "metadata": {},
   "outputs": [
    {
     "name": "stdout",
     "output_type": "stream",
     "text": [
      "São Paulo\n",
      "Londres\n",
      "Tokyo\n",
      "Paris\n"
     ]
    }
   ],
   "source": [
    "#iterar: navegar sobre um objeto passivel\n",
    "#listas, tuplas, break, continue, etc\n",
    "#sequencia que precisa ser repetida um numero definido de vzs\n",
    "\n",
    "nomes_cidades = ['São Paulo', 'Londres', 'Tokyo', 'Paris']\n",
    "for nome in nomes_cidades:\n",
    "    print(nome)"
   ]
  },
  {
   "cell_type": "code",
   "execution_count": 4,
   "id": "52c85469",
   "metadata": {},
   "outputs": [
    {
     "name": "stdout",
     "output_type": "stream",
     "text": [
      "São Paulo\n",
      "Londres\n",
      "Tokyo\n",
      "Paris\n"
     ]
    }
   ],
   "source": [
    "nomes_cidades = ('São Paulo', 'Londres', 'Tokyo', 'Paris')\n",
    "for nome in nomes_cidades:\n",
    "    print(nome)"
   ]
  },
  {
   "cell_type": "code",
   "execution_count": 5,
   "id": "a29057e7",
   "metadata": {},
   "outputs": [
    {
     "name": "stdout",
     "output_type": "stream",
     "text": [
      "nome: São Paulo\n",
      "estado: São Paulo\n",
      "pop_mil: 12.2\n"
     ]
    }
   ],
   "source": [
    "cidade = {\n",
    "    'nome':'São Paulo',\n",
    "    'estado': 'São Paulo',\n",
    "    'pop_mil': 12.2\n",
    "}\n",
    "for chave in cidade:\n",
    "    print(f'{chave}: {cidade[chave]}')"
   ]
  },
  {
   "cell_type": "code",
   "execution_count": 7,
   "id": "2b3ff9ee",
   "metadata": {},
   "outputs": [
    {
     "name": "stdout",
     "output_type": "stream",
     "text": [
      "['São Paulo', 'Londres', 'Tokyo', 'Paris']\n",
      "['São Paulo', 'Londres', 'Tokyo', 'Paris']\n",
      "['São Paulo', 'Londres', 'Tokyo', 'Paris']\n",
      "['São Paulo', 'Londres', 'Tokyo', 'Paris']\n"
     ]
    }
   ],
   "source": [
    "nomes_cidades = ['São Paulo', 'Londres', 'Tokyo', 'Paris']\n",
    "for nome in nomes_cidades:\n",
    "    nome = 'Rio de Janeiro'\n",
    "print(nomes_cidades)\n",
    "\n",
    "#nao mexe diretamente na lista, faz uma copia"
   ]
  },
  {
   "cell_type": "code",
   "execution_count": 11,
   "id": "02a09afc",
   "metadata": {},
   "outputs": [
    {
     "name": "stdout",
     "output_type": "stream",
     "text": [
      "['Rio de Janeiro', 'Rio de Janeiro', 'Rio de Janeiro', 'Rio de Janeiro']\n"
     ]
    }
   ],
   "source": [
    "#para alterar valores da lista, referenciar por posição\n",
    "#função range, cria um obj tipo lista (0, numero - 1)\n",
    "\n",
    "for posicao in range(len(nomes_cidades)):\n",
    "    nomes_cidades[posicao] = 'Rio de Janeiro'\n",
    "print(nomes_cidades)"
   ]
  },
  {
   "cell_type": "code",
   "execution_count": 12,
   "id": "b8f81d6f",
   "metadata": {},
   "outputs": [
    {
     "name": "stdout",
     "output_type": "stream",
     "text": [
      "[0, 1, 2, 3, 4, 5, 6, 7, 8, 9]\n",
      "[2, 3, 4, 5, 6, 7, 8, 9]\n",
      "[2, 4, 6, 8]\n"
     ]
    }
   ],
   "source": [
    "print(list(range(10)))\n",
    "print(list(range(2,10)))\n",
    "print(list(range(2,10,2)))"
   ]
  },
  {
   "cell_type": "code",
   "execution_count": null,
   "id": "1b9e8fbb",
   "metadata": {},
   "outputs": [],
   "source": []
  }
 ],
 "metadata": {
  "kernelspec": {
   "display_name": "Python 3 (ipykernel)",
   "language": "python",
   "name": "python3"
  },
  "language_info": {
   "codemirror_mode": {
    "name": "ipython",
    "version": 3
   },
   "file_extension": ".py",
   "mimetype": "text/x-python",
   "name": "python",
   "nbconvert_exporter": "python",
   "pygments_lexer": "ipython3",
   "version": "3.10.6"
  }
 },
 "nbformat": 4,
 "nbformat_minor": 5
}
