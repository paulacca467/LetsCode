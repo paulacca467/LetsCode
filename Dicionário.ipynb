{
 "cells": [
  {
   "cell_type": "code",
   "execution_count": 1,
   "id": "39e31d26",
   "metadata": {},
   "outputs": [],
   "source": [
    "#pares de chaves e valores\n",
    "dados_cidade = {\n",
    "    'nome': 'São Paulo',\n",
    "    'estado': 'São Paulo',\n",
    "    'área_km2': 1521,\n",
    "    'pop_mil': 12.18,\n",
    "}"
   ]
  },
  {
   "cell_type": "code",
   "execution_count": 2,
   "id": "ebcccce7",
   "metadata": {},
   "outputs": [
    {
     "name": "stdout",
     "output_type": "stream",
     "text": [
      "<class 'dict'>\n"
     ]
    }
   ],
   "source": [
    "print(type(dados_cidade))"
   ]
  },
  {
   "cell_type": "code",
   "execution_count": 3,
   "id": "5a429276",
   "metadata": {},
   "outputs": [
    {
     "name": "stdout",
     "output_type": "stream",
     "text": [
      "{'nome': 'São Paulo', 'estado': 'São Paulo', 'área_km2': 1521, 'pop_mil': 12.18}\n"
     ]
    }
   ],
   "source": [
    "print(dados_cidade)"
   ]
  },
  {
   "cell_type": "code",
   "execution_count": 4,
   "id": "24cbaadf",
   "metadata": {},
   "outputs": [
    {
     "data": {
      "text/plain": [
       "'São Paulo'"
      ]
     },
     "execution_count": 4,
     "metadata": {},
     "output_type": "execute_result"
    }
   ],
   "source": [
    "dados_cidade['nome']"
   ]
  },
  {
   "cell_type": "code",
   "execution_count": 6,
   "id": "04fd65ea",
   "metadata": {},
   "outputs": [
    {
     "name": "stdout",
     "output_type": "stream",
     "text": [
      "{'nome': 'São Paulo', 'estado': 'São Paulo', 'área_km2': 1521, 'pop_mil': 12.18, 'pais': 'Brasil'}\n"
     ]
    }
   ],
   "source": [
    "dados_cidade['pais'] = 'Brasil'\n",
    "print(dados_cidade)"
   ]
  },
  {
   "cell_type": "code",
   "execution_count": 9,
   "id": "31ee6b06",
   "metadata": {},
   "outputs": [
    {
     "name": "stdout",
     "output_type": "stream",
     "text": [
      "{'nome': 'São Paulo', 'estado': 'São Paulo', 'área_km2': 1500, 'pop_mil': 12.18, 'pais': 'Brasil', 'area_km2': 1500}\n"
     ]
    }
   ],
   "source": [
    "dados_cidade['área_km2'] = 1500\n",
    "print(dados_cidade)"
   ]
  },
  {
   "cell_type": "code",
   "execution_count": 10,
   "id": "8537e1f2",
   "metadata": {},
   "outputs": [
    {
     "name": "stdout",
     "output_type": "stream",
     "text": [
      "{'nome': 'Santos', 'estado': 'São Paulo', 'área_km2': 1500, 'pop_mil': 12.18, 'pais': 'Brasil', 'area_km2': 1500}\n",
      "{'nome': 'Santos', 'estado': 'São Paulo', 'área_km2': 1500, 'pop_mil': 12.18, 'pais': 'Brasil', 'area_km2': 1500}\n"
     ]
    }
   ],
   "source": [
    "#alteracoes seguem o dicionario original; usar copy\n",
    "dados_cidade_2 = dados_cidade\n",
    "dados_cidade_2['nome'] = 'Santos'\n",
    "print(dados_cidade)\n",
    "print(dados_cidade_2)"
   ]
  },
  {
   "cell_type": "code",
   "execution_count": 11,
   "id": "6618308f",
   "metadata": {},
   "outputs": [
    {
     "name": "stdout",
     "output_type": "stream",
     "text": [
      "{'nome': 'Santos', 'estado': 'Rio de Janeiro', 'área_km2': 1500, 'pop_mil': 12.18, 'pais': 'Brasil', 'area_km2': 1500}\n",
      "{'nome': 'Santos', 'estado': 'São Paulo', 'área_km2': 1500, 'pop_mil': 12.18, 'pais': 'Brasil', 'area_km2': 1500}\n"
     ]
    }
   ],
   "source": [
    "dados_cidade_3 = dados_cidade.copy()\n",
    "dados_cidade_3['estado'] = 'Rio de Janeiro'\n",
    "print(dados_cidade_3)\n",
    "print(dados_cidade)"
   ]
  },
  {
   "cell_type": "code",
   "execution_count": 14,
   "id": "b296023a",
   "metadata": {},
   "outputs": [
    {
     "name": "stdout",
     "output_type": "stream",
     "text": [
      "{'nome': 'São Paulo', 'estado': 'São Paulo', 'área_km2': 1500, 'pop_mil': 15, 'pais': 'Brasil', 'area_km2': 1500, 'fundacao': '25/01/1554'}\n"
     ]
    }
   ],
   "source": [
    "#combinação de dois dicionarios; método update\n",
    "#atualizar dicionario original com novos dados\n",
    "novos_dados = {\n",
    "    'nome': 'São Paulo',\n",
    "    'pop_mil': 15,\n",
    "    'fundacao': '25/01/1554',\n",
    "}\n",
    "dados_cidade.update(novos_dados)\n",
    "print(dados_cidade)"
   ]
  },
  {
   "cell_type": "code",
   "execution_count": 16,
   "id": "c0d4a274",
   "metadata": {},
   "outputs": [
    {
     "name": "stdout",
     "output_type": "stream",
     "text": [
      "None\n"
     ]
    }
   ],
   "source": [
    "#metodo get, acesso a uma chave\n",
    "#retorna none, nao erro\n",
    "print(dados_cidade.get('prefeito'))"
   ]
  },
  {
   "cell_type": "code",
   "execution_count": 17,
   "id": "0ca46881",
   "metadata": {},
   "outputs": [
    {
     "name": "stdout",
     "output_type": "stream",
     "text": [
      "dict_keys(['nome', 'estado', 'área_km2', 'pop_mil', 'pais', 'area_km2', 'fundacao'])\n",
      "dict_values(['São Paulo', 'São Paulo', 1500, 15, 'Brasil', 1500, '25/01/1554'])\n",
      "dict_items([('nome', 'São Paulo'), ('estado', 'São Paulo'), ('área_km2', 1500), ('pop_mil', 15), ('pais', 'Brasil'), ('area_km2', 1500), ('fundacao', '25/01/1554')])\n"
     ]
    }
   ],
   "source": [
    "print(dados_cidade.keys()) #retorna lista de chaves\n",
    "print(dados_cidade.values()) #retorna lista de valores\n",
    "print(dados_cidade.items()) #retorna tupla com os pares"
   ]
  },
  {
   "cell_type": "code",
   "execution_count": null,
   "id": "2ea7b6c5",
   "metadata": {},
   "outputs": [],
   "source": []
  },
  {
   "cell_type": "code",
   "execution_count": null,
   "id": "4255b9e5",
   "metadata": {},
   "outputs": [],
   "source": []
  }
 ],
 "metadata": {
  "kernelspec": {
   "display_name": "Python 3 (ipykernel)",
   "language": "python",
   "name": "python3"
  },
  "language_info": {
   "codemirror_mode": {
    "name": "ipython",
    "version": 3
   },
   "file_extension": ".py",
   "mimetype": "text/x-python",
   "name": "python",
   "nbconvert_exporter": "python",
   "pygments_lexer": "ipython3",
   "version": "3.10.6"
  }
 },
 "nbformat": 4,
 "nbformat_minor": 5
}
