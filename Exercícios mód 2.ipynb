{
 "cells": [
  {
   "cell_type": "code",
   "execution_count": 14,
   "id": "089a5021",
   "metadata": {},
   "outputs": [
    {
     "name": "stdout",
     "output_type": "stream",
     "text": [
      "[8, 2, 6, 4]\n"
     ]
    }
   ],
   "source": [
    "#Q1\n",
    "lista1 = [8,1,7,2,6,3,5,4]\n",
    "lista2 = []\n",
    "for valor in lista1:\n",
    "    if valor % 2 == 0:\n",
    "        lista2.append(valor)\n",
    "\n",
    "print(lista2)"
   ]
  },
  {
   "cell_type": "code",
   "execution_count": 15,
   "id": "028397f9",
   "metadata": {},
   "outputs": [
    {
     "name": "stdout",
     "output_type": "stream",
     "text": [
      "Digite uma palavra: microscópio\n",
      "m\n",
      "i\n",
      "c\n",
      "r\n",
      "o\n",
      "s\n",
      "c\n",
      "ó\n",
      "p\n",
      "i\n",
      "o\n"
     ]
    }
   ],
   "source": [
    "#Q2\n",
    "palavra = input('Digite uma palavra: ')\n",
    "for i in palavra:\n",
    "    print(i)"
   ]
  },
  {
   "cell_type": "code",
   "execution_count": 23,
   "id": "f49ae49b",
   "metadata": {},
   "outputs": [
    {
     "name": "stdout",
     "output_type": "stream",
     "text": [
      "[4, 9, 4]\n"
     ]
    }
   ],
   "source": [
    "#Q3\n",
    "listaum = [1, 4, 3]\n",
    "listadois = [3, 5, 1]\n",
    "listatres = []\n",
    "zip(listaum, listadois)\n",
    "\n",
    "for i, j in zip(listaum, listadois):\n",
    "    listatres.append(i+j)\n",
    "print(listatres)"
   ]
  },
  {
   "cell_type": "code",
   "execution_count": 41,
   "id": "153ef2ec",
   "metadata": {},
   "outputs": [
    {
     "name": "stdout",
     "output_type": "stream",
     "text": [
      "janeiro - 31\n",
      "fevereiro - 28\n",
      "março - 31\n",
      "abril - 30\n",
      "maio - 31\n",
      "junho - 30\n",
      "julho - 31\n",
      "agosto - 31\n",
      "setembro - 30\n",
      "outubro - 31\n",
      "novembro - 30\n",
      "dezembro - 31\n"
     ]
    }
   ],
   "source": [
    "#Q4-5\n",
    "meses = {\n",
    "    'janeiro': 31,\n",
    "    'fevereiro': 28,\n",
    "    'março': 31,\n",
    "    'abril': 30,\n",
    "    'maio': 31,\n",
    "    'junho': 30,\n",
    "    'julho': 31,\n",
    "    'agosto': 31,\n",
    "    'setembro': 30,\n",
    "    'outubro': 31,\n",
    "    'novembro': 30,\n",
    "    'dezembro': 31\n",
    "}\n",
    "for k, v in meses.items():\n",
    "    print(f'{k} - {v}')"
   ]
  },
  {
   "cell_type": "code",
   "execution_count": null,
   "id": "a94e3a92",
   "metadata": {},
   "outputs": [],
   "source": []
  }
 ],
 "metadata": {
  "kernelspec": {
   "display_name": "Python 3 (ipykernel)",
   "language": "python",
   "name": "python3"
  },
  "language_info": {
   "codemirror_mode": {
    "name": "ipython",
    "version": 3
   },
   "file_extension": ".py",
   "mimetype": "text/x-python",
   "name": "python",
   "nbconvert_exporter": "python",
   "pygments_lexer": "ipython3",
   "version": "3.10.6"
  }
 },
 "nbformat": 4,
 "nbformat_minor": 5
}
