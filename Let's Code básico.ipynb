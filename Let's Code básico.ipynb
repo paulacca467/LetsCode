{
 "cells": [
  {
   "cell_type": "code",
   "execution_count": 1,
   "id": "5a427cda",
   "metadata": {},
   "outputs": [
    {
     "name": "stdout",
     "output_type": "stream",
     "text": [
      "Hello World\n"
     ]
    }
   ],
   "source": [
    "print('Hello World')\n"
   ]
  },
  {
   "cell_type": "code",
   "execution_count": 2,
   "id": "ddc6420e",
   "metadata": {},
   "outputs": [],
   "source": [
    "x = 5"
   ]
  },
  {
   "cell_type": "code",
   "execution_count": 3,
   "id": "6d81187f",
   "metadata": {},
   "outputs": [
    {
     "data": {
      "text/plain": [
       "int"
      ]
     },
     "execution_count": 3,
     "metadata": {},
     "output_type": "execute_result"
    }
   ],
   "source": [
    "type(x)"
   ]
  },
  {
   "cell_type": "code",
   "execution_count": 4,
   "id": "6a3a816b",
   "metadata": {},
   "outputs": [
    {
     "name": "stdout",
     "output_type": "stream",
     "text": [
      "<class 'int'>\n"
     ]
    }
   ],
   "source": [
    "print(type(x))"
   ]
  },
  {
   "cell_type": "code",
   "execution_count": 5,
   "id": "e279b9b7",
   "metadata": {},
   "outputs": [
    {
     "name": "stdout",
     "output_type": "stream",
     "text": [
      "Qual sua idade?2\n"
     ]
    }
   ],
   "source": [
    "idade = int(input('Qual sua idade?'))"
   ]
  },
  {
   "cell_type": "code",
   "execution_count": 7,
   "id": "7174fc23",
   "metadata": {},
   "outputs": [
    {
     "name": "stdout",
     "output_type": "stream",
     "text": [
      "digite seu salario: 5432.1\n",
      "digite seu gasto mensal: 1234.5\n",
      "seu montante economizado é de 50371.200000000004\n"
     ]
    }
   ],
   "source": [
    "salario_mensal = (input('digite seu salario: '))\n",
    "salario_mensal = float(salario_mensal)\n",
    "\n",
    "gasto_mensal = (input('digite seu gasto mensal: '))\n",
    "gasto_mensal = float(gasto_mensal)\n",
    "\n",
    "salario_total = salario_mensal * 12\n",
    "gasto_total = gasto_mensal * 12\n",
    "\n",
    "montante = salario_total - gasto_total\n",
    "print('seu montante economizado é de', montante)"
   ]
  },
  {
   "cell_type": "code",
   "execution_count": 15,
   "id": "18276309",
   "metadata": {},
   "outputs": [
    {
     "name": "stdout",
     "output_type": "stream",
     "text": [
      "Qual o valor da corrida: 30\n",
      "Pega o ônibus\n"
     ]
    }
   ],
   "source": [
    "valor_passagem = 4.40\n",
    "valor_corrida = input('Qual o valor da corrida: ')\n",
    "\n",
    "if float(valor_corrida) <= valor_passagem * 5:\n",
    "    print('Pague a corrida')\n",
    "else:\n",
    "    if float(valor_corrida) <= valor_passagem * 6:\n",
    "        print('Aguarde um pouco')\n",
    "    else:\n",
    "        print('Pega o ônibus')"
   ]
  },
  {
   "cell_type": "code",
   "execution_count": 18,
   "id": "c24d040a",
   "metadata": {},
   "outputs": [
    {
     "name": "stdout",
     "output_type": "stream",
     "text": [
      "Qual o valor da corrida: 25\n",
      "Aguarde um pouco\n"
     ]
    }
   ],
   "source": [
    "valor_passagem = 4.40\n",
    "valor_corrida = input('Qual o valor da corrida: ')\n",
    "\n",
    "if float(valor_corrida) <= valor_passagem * 5:\n",
    "    print('Pague a corrida')\n",
    "elif float(valor_corrida) <= valor_passagem * 6:\n",
    "    print('Aguarde um pouco')\n",
    "else:\n",
    "    print('Pega o ônibus')"
   ]
  },
  {
   "cell_type": "code",
   "execution_count": 22,
   "id": "b57f534a",
   "metadata": {},
   "outputs": [
    {
     "name": "stdout",
     "output_type": "stream",
     "text": [
      "Tabuada do número: 5\n",
      "5 x 1 = 5\n",
      "5 x 2 = 10\n",
      "5 x 3 = 15\n",
      "5 x 4 = 20\n",
      "5 x 5 = 25\n",
      "5 x 6 = 30\n",
      "5 x 7 = 35\n",
      "5 x 8 = 40\n",
      "5 x 9 = 45\n",
      "5 x 10 = 50\n"
     ]
    }
   ],
   "source": [
    "tabuada = int(input('Tabuada do número: '))\n",
    "\n",
    "for count in range(1,11):\n",
    "    print('{} x {} = {}'.format(tabuada, count, tabuada*count))"
   ]
  },
  {
   "cell_type": "code",
   "execution_count": 24,
   "id": "15d59b80",
   "metadata": {},
   "outputs": [
    {
     "name": "stdout",
     "output_type": "stream",
     "text": [
      "1 item limpo\n",
      "2 itens limpos\n",
      "3 itens limpos\n",
      "4 itens limpos\n",
      "5 itens limpos\n",
      "6 itens limpos\n",
      "7 itens limpos\n",
      "8 itens limpos\n",
      "9 itens limpos\n",
      "10 itens limpos\n",
      "boa mlk\n"
     ]
    }
   ],
   "source": [
    "contador = 0\n",
    "while contador < 10:\n",
    "    contador = contador + 1\n",
    "    if contador == 1:\n",
    "        print(contador, 'item limpo')\n",
    "    else:\n",
    "        print(contador, 'itens limpos')\n",
    "print('boa mlk')        "
   ]
  },
  {
   "cell_type": "code",
   "execution_count": 26,
   "id": "ac2718a1",
   "metadata": {},
   "outputs": [
    {
     "name": "stdout",
     "output_type": "stream",
     "text": [
      "1 item limpo\n",
      "2 itens limpos\n",
      "3 itens limpos\n",
      "4 itens limpos\n",
      "5 itens limpos\n",
      "6 itens limpos\n",
      "7 itens limpos\n",
      "8 itens limpos\n",
      "9 itens limpos\n",
      "10 itens limpos\n",
      "boa mlk\n"
     ]
    }
   ],
   "source": [
    "contador = 0\n",
    "while True:\n",
    "    if contador < 10:\n",
    "        contador = contador + 1\n",
    "        if contador == 1:\n",
    "            print(contador, 'item limpo')\n",
    "        else:\n",
    "            print(contador, 'itens limpos')\n",
    "    else:\n",
    "        break\n",
    "print('boa mlk')"
   ]
  },
  {
   "cell_type": "code",
   "execution_count": 27,
   "id": "eede11bd",
   "metadata": {},
   "outputs": [
    {
     "name": "stdout",
     "output_type": "stream",
     "text": [
      "digite sua senha: sdnajd\n",
      "senha invalida, tente dnv: sandasj\n",
      "senha invalida, tente dnv: nao\n",
      "senha invalida, tente dnv: pora\n",
      "senha invalida, tente dnv: letscode\n",
      "bem vindo\n"
     ]
    }
   ],
   "source": [
    "texto = input('digite sua senha: ')\n",
    "while texto != 'letscode':\n",
    "    texto = input('senha invalida, tente dnv: ')\n",
    "print('bem vindo')"
   ]
  },
  {
   "cell_type": "code",
   "execution_count": 31,
   "id": "cd51d496",
   "metadata": {},
   "outputs": [
    {
     "name": "stdout",
     "output_type": "stream",
     "text": [
      "1 item limpo\n",
      "2 item limpo\n",
      "4 item limpo\n",
      "5 item limpo\n",
      "6 item limpo\n",
      "7 item limpo\n",
      "8 item limpo\n",
      "9 item limpo\n",
      "10 item limpo\n"
     ]
    }
   ],
   "source": [
    "contador = 0\n",
    "while contador < 10:\n",
    "        contador = contador + 1\n",
    "        if contador == 3:\n",
    "            continue\n",
    "        print(contador, 'item limpo')\n",
    "    "
   ]
  },
  {
   "cell_type": "code",
   "execution_count": null,
   "id": "4793c05b",
   "metadata": {},
   "outputs": [],
   "source": []
  }
 ],
 "metadata": {
  "kernelspec": {
   "display_name": "Python 3 (ipykernel)",
   "language": "python",
   "name": "python3"
  },
  "language_info": {
   "codemirror_mode": {
    "name": "ipython",
    "version": 3
   },
   "file_extension": ".py",
   "mimetype": "text/x-python",
   "name": "python",
   "nbconvert_exporter": "python",
   "pygments_lexer": "ipython3",
   "version": "3.10.6"
  }
 },
 "nbformat": 4,
 "nbformat_minor": 5
}
