{
 "cells": [
  {
   "cell_type": "code",
   "execution_count": 1,
   "id": "29432c54",
   "metadata": {},
   "outputs": [],
   "source": [
    "#criar proprias funções\n",
    "def hello():\n",
    "    print('Talk that talk!')"
   ]
  },
  {
   "cell_type": "code",
   "execution_count": 2,
   "id": "21a03116",
   "metadata": {},
   "outputs": [
    {
     "name": "stdout",
     "output_type": "stream",
     "text": [
      "Talk that talk!\n"
     ]
    }
   ],
   "source": [
    "hello()"
   ]
  },
  {
   "cell_type": "code",
   "execution_count": 14,
   "id": "62030b1f",
   "metadata": {},
   "outputs": [],
   "source": [
    "def cal_mean(a, b, c):\n",
    "    soma = (a + b + c)\n",
    "    media = soma / 3\n",
    "    return media"
   ]
  },
  {
   "cell_type": "code",
   "execution_count": 15,
   "id": "b770305e",
   "metadata": {},
   "outputs": [
    {
     "name": "stdout",
     "output_type": "stream",
     "text": [
      "2.0\n"
     ]
    }
   ],
   "source": [
    "resultado = cal_mean(1,2,3)\n",
    "print(resultado)"
   ]
  },
  {
   "cell_type": "code",
   "execution_count": 16,
   "id": "6160882a",
   "metadata": {},
   "outputs": [
    {
     "name": "stdout",
     "output_type": "stream",
     "text": [
      "9.333333333333334\n"
     ]
    }
   ],
   "source": [
    "resultado2 = cal_mean(a=9, b=10, c=9)\n",
    "print(resultado2)"
   ]
  },
  {
   "cell_type": "code",
   "execution_count": 22,
   "id": "12ff7d4b",
   "metadata": {},
   "outputs": [
    {
     "name": "stdout",
     "output_type": "stream",
     "text": [
      "Olá, Marilene\n"
     ]
    }
   ],
   "source": [
    "print('Olá,', end=' ')\n",
    "print('Marilene')\n",
    "#nao termina em quebra de linha"
   ]
  },
  {
   "cell_type": "code",
   "execution_count": 25,
   "id": "f0aeffc9",
   "metadata": {},
   "outputs": [],
   "source": [
    "#valores default para caso nao sejam informados\n",
    "def cal_mean(a=0, b=0, c=0):\n",
    "    soma = (a + b + c)\n",
    "    media = soma / 3\n",
    "    return media"
   ]
  },
  {
   "cell_type": "code",
   "execution_count": 26,
   "id": "3f9f9760",
   "metadata": {},
   "outputs": [
    {
     "name": "stdout",
     "output_type": "stream",
     "text": [
      "0.0\n"
     ]
    }
   ],
   "source": [
    "resultado = cal_mean()\n",
    "print(resultado)"
   ]
  },
  {
   "cell_type": "code",
   "execution_count": 27,
   "id": "95fde494",
   "metadata": {},
   "outputs": [],
   "source": [
    "#parametros default precisam ser declarados após os nao-default"
   ]
  },
  {
   "cell_type": "code",
   "execution_count": 28,
   "id": "e7f89cb8",
   "metadata": {},
   "outputs": [],
   "source": [
    "#aceitar quantos parametros quiser: args\n",
    "#retorna tupla \n",
    "\n",
    "def cal_mean(*args, margem):\n",
    "    print(args, type(args))"
   ]
  },
  {
   "cell_type": "code",
   "execution_count": 30,
   "id": "597b7b44",
   "metadata": {},
   "outputs": [
    {
     "name": "stdout",
     "output_type": "stream",
     "text": [
      "(10, 8, 9) <class 'tuple'>\n"
     ]
    }
   ],
   "source": [
    "cal_mean(10,8,9)"
   ]
  },
  {
   "cell_type": "code",
   "execution_count": 38,
   "id": "fb8ea2d0",
   "metadata": {},
   "outputs": [],
   "source": [
    "def cal_mean(*args, margem):\n",
    "    soma = sum(args)\n",
    "    media = soma / len(args)\n",
    "    return media + margem"
   ]
  },
  {
   "cell_type": "code",
   "execution_count": 39,
   "id": "a4b71405",
   "metadata": {},
   "outputs": [
    {
     "data": {
      "text/plain": [
       "9.3"
      ]
     },
     "execution_count": 39,
     "metadata": {},
     "output_type": "execute_result"
    }
   ],
   "source": [
    "cal_mean(10,8,9, margem=0.3)"
   ]
  },
  {
   "cell_type": "code",
   "execution_count": 40,
   "id": "4e09a2ed",
   "metadata": {},
   "outputs": [],
   "source": [
    "#kwargs: keyword arguments\n",
    "#recebem parametros padroes comuns a diferentes funcoes\n",
    "#retorna dicionario\n",
    "\n",
    "def print_info(**kwargs):\n",
    "    print(kwargs, type(kwargs))"
   ]
  },
  {
   "cell_type": "code",
   "execution_count": 42,
   "id": "6bf41e6f",
   "metadata": {},
   "outputs": [
    {
     "name": "stdout",
     "output_type": "stream",
     "text": [
      "{'nome': 'Paula', 'sobrenome': 'Camargo'} <class 'dict'>\n"
     ]
    }
   ],
   "source": [
    "print_info(nome='Paula', sobrenome='Camargo')"
   ]
  },
  {
   "cell_type": "code",
   "execution_count": null,
   "id": "f26c9642",
   "metadata": {},
   "outputs": [],
   "source": []
  }
 ],
 "metadata": {
  "kernelspec": {
   "display_name": "Python 3 (ipykernel)",
   "language": "python",
   "name": "python3"
  },
  "language_info": {
   "codemirror_mode": {
    "name": "ipython",
    "version": 3
   },
   "file_extension": ".py",
   "mimetype": "text/x-python",
   "name": "python",
   "nbconvert_exporter": "python",
   "pygments_lexer": "ipython3",
   "version": "3.10.6"
  }
 },
 "nbformat": 4,
 "nbformat_minor": 5
}
